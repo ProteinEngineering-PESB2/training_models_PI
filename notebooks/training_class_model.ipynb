{
 "cells": [
  {
   "cell_type": "markdown",
   "metadata": {},
   "source": [
    "### Demo how to use the training module for classification task\n",
    "\n",
    "This notebook works with the processed dataset for classification task and shows how to:\n",
    "\n",
    "- Instance models\n",
    "- Training models with different strategies\n",
    "- Evaluate the trained models\n",
    "- Export models\n",
    "- Load and use models"
   ]
  },
  {
   "cell_type": "markdown",
   "metadata": {},
   "source": [
    "### Loading modules"
   ]
  },
  {
   "cell_type": "code",
   "execution_count": 1,
   "metadata": {},
   "outputs": [],
   "source": [
    "import pandas as pd\n",
    "import sys\n",
    "sys.path.insert(0, \"../src/\")\n",
    "\n",
    "from predictive_models.ClassificationModels import ClassificationModels\n",
    "from utils.utilsLib import *"
   ]
  },
  {
   "cell_type": "markdown",
   "metadata": {},
   "source": [
    "### Preparing dataset\n",
    "\n",
    "- Read the processed dataset\n",
    "- Separate dataset values of response column\n",
    "- Split dataset into train and independent test"
   ]
  },
  {
   "cell_type": "code",
   "execution_count": 2,
   "metadata": {},
   "outputs": [
    {
     "data": {
      "text/html": [
       "<div>\n",
       "<style scoped>\n",
       "    .dataframe tbody tr th:only-of-type {\n",
       "        vertical-align: middle;\n",
       "    }\n",
       "\n",
       "    .dataframe tbody tr th {\n",
       "        vertical-align: top;\n",
       "    }\n",
       "\n",
       "    .dataframe thead th {\n",
       "        text-align: right;\n",
       "    }\n",
       "</style>\n",
       "<table border=\"1\" class=\"dataframe\">\n",
       "  <thead>\n",
       "    <tr style=\"text-align: right;\">\n",
       "      <th></th>\n",
       "      <th>p_1</th>\n",
       "      <th>p_2</th>\n",
       "      <th>p_3</th>\n",
       "      <th>p_4</th>\n",
       "      <th>p_5</th>\n",
       "      <th>p_6</th>\n",
       "      <th>p_7</th>\n",
       "      <th>p_8</th>\n",
       "      <th>p_9</th>\n",
       "      <th>p_10</th>\n",
       "      <th>...</th>\n",
       "      <th>p_312</th>\n",
       "      <th>p_313</th>\n",
       "      <th>p_314</th>\n",
       "      <th>p_315</th>\n",
       "      <th>p_316</th>\n",
       "      <th>p_317</th>\n",
       "      <th>p_318</th>\n",
       "      <th>p_319</th>\n",
       "      <th>p_320</th>\n",
       "      <th>hl_category</th>\n",
       "    </tr>\n",
       "  </thead>\n",
       "  <tbody>\n",
       "    <tr>\n",
       "      <th>0</th>\n",
       "      <td>0.215133</td>\n",
       "      <td>0.051171</td>\n",
       "      <td>0.247454</td>\n",
       "      <td>0.012051</td>\n",
       "      <td>-0.011711</td>\n",
       "      <td>-0.060513</td>\n",
       "      <td>-0.231637</td>\n",
       "      <td>-0.205868</td>\n",
       "      <td>-0.097614</td>\n",
       "      <td>-0.136191</td>\n",
       "      <td>...</td>\n",
       "      <td>0.085986</td>\n",
       "      <td>0.267091</td>\n",
       "      <td>0.040721</td>\n",
       "      <td>-0.056852</td>\n",
       "      <td>0.000950</td>\n",
       "      <td>0.046941</td>\n",
       "      <td>0.384855</td>\n",
       "      <td>0.065653</td>\n",
       "      <td>-0.079415</td>\n",
       "      <td>Medium</td>\n",
       "    </tr>\n",
       "    <tr>\n",
       "      <th>1</th>\n",
       "      <td>0.094518</td>\n",
       "      <td>-0.145713</td>\n",
       "      <td>0.224664</td>\n",
       "      <td>0.146596</td>\n",
       "      <td>-0.001474</td>\n",
       "      <td>-0.078727</td>\n",
       "      <td>-0.084605</td>\n",
       "      <td>-0.004563</td>\n",
       "      <td>0.030208</td>\n",
       "      <td>-0.152848</td>\n",
       "      <td>...</td>\n",
       "      <td>0.041869</td>\n",
       "      <td>0.032089</td>\n",
       "      <td>-0.042898</td>\n",
       "      <td>0.175210</td>\n",
       "      <td>-0.079063</td>\n",
       "      <td>-0.155911</td>\n",
       "      <td>0.073967</td>\n",
       "      <td>0.077606</td>\n",
       "      <td>-0.040110</td>\n",
       "      <td>Medium</td>\n",
       "    </tr>\n",
       "    <tr>\n",
       "      <th>2</th>\n",
       "      <td>0.142003</td>\n",
       "      <td>0.053739</td>\n",
       "      <td>0.366839</td>\n",
       "      <td>-0.021242</td>\n",
       "      <td>-0.038941</td>\n",
       "      <td>-0.039594</td>\n",
       "      <td>-0.112769</td>\n",
       "      <td>-0.153340</td>\n",
       "      <td>-0.114870</td>\n",
       "      <td>-0.163018</td>\n",
       "      <td>...</td>\n",
       "      <td>0.217359</td>\n",
       "      <td>0.107217</td>\n",
       "      <td>-0.161089</td>\n",
       "      <td>-0.012996</td>\n",
       "      <td>-0.101987</td>\n",
       "      <td>-0.002924</td>\n",
       "      <td>0.292161</td>\n",
       "      <td>0.105018</td>\n",
       "      <td>-0.149086</td>\n",
       "      <td>Medium</td>\n",
       "    </tr>\n",
       "    <tr>\n",
       "      <th>3</th>\n",
       "      <td>0.115404</td>\n",
       "      <td>-0.105004</td>\n",
       "      <td>0.129293</td>\n",
       "      <td>-0.102546</td>\n",
       "      <td>0.089786</td>\n",
       "      <td>-0.087965</td>\n",
       "      <td>-0.083683</td>\n",
       "      <td>-0.048680</td>\n",
       "      <td>-0.119285</td>\n",
       "      <td>-0.175827</td>\n",
       "      <td>...</td>\n",
       "      <td>0.066691</td>\n",
       "      <td>0.031502</td>\n",
       "      <td>-0.096098</td>\n",
       "      <td>0.023415</td>\n",
       "      <td>-0.145263</td>\n",
       "      <td>-0.061250</td>\n",
       "      <td>0.234779</td>\n",
       "      <td>0.020759</td>\n",
       "      <td>-0.252812</td>\n",
       "      <td>Medium</td>\n",
       "    </tr>\n",
       "    <tr>\n",
       "      <th>4</th>\n",
       "      <td>0.004480</td>\n",
       "      <td>-0.140809</td>\n",
       "      <td>0.003605</td>\n",
       "      <td>-0.149720</td>\n",
       "      <td>0.044082</td>\n",
       "      <td>-0.100952</td>\n",
       "      <td>-0.041461</td>\n",
       "      <td>-0.053537</td>\n",
       "      <td>-0.162078</td>\n",
       "      <td>-0.085417</td>\n",
       "      <td>...</td>\n",
       "      <td>0.093655</td>\n",
       "      <td>-0.019685</td>\n",
       "      <td>-0.010657</td>\n",
       "      <td>-0.028408</td>\n",
       "      <td>-0.211371</td>\n",
       "      <td>-0.111117</td>\n",
       "      <td>0.212650</td>\n",
       "      <td>-0.010299</td>\n",
       "      <td>-0.228238</td>\n",
       "      <td>Medium</td>\n",
       "    </tr>\n",
       "  </tbody>\n",
       "</table>\n",
       "<p>5 rows × 321 columns</p>\n",
       "</div>"
      ],
      "text/plain": [
       "        p_1       p_2       p_3       p_4       p_5       p_6       p_7  \\\n",
       "0  0.215133  0.051171  0.247454  0.012051 -0.011711 -0.060513 -0.231637   \n",
       "1  0.094518 -0.145713  0.224664  0.146596 -0.001474 -0.078727 -0.084605   \n",
       "2  0.142003  0.053739  0.366839 -0.021242 -0.038941 -0.039594 -0.112769   \n",
       "3  0.115404 -0.105004  0.129293 -0.102546  0.089786 -0.087965 -0.083683   \n",
       "4  0.004480 -0.140809  0.003605 -0.149720  0.044082 -0.100952 -0.041461   \n",
       "\n",
       "        p_8       p_9      p_10  ...     p_312     p_313     p_314     p_315  \\\n",
       "0 -0.205868 -0.097614 -0.136191  ...  0.085986  0.267091  0.040721 -0.056852   \n",
       "1 -0.004563  0.030208 -0.152848  ...  0.041869  0.032089 -0.042898  0.175210   \n",
       "2 -0.153340 -0.114870 -0.163018  ...  0.217359  0.107217 -0.161089 -0.012996   \n",
       "3 -0.048680 -0.119285 -0.175827  ...  0.066691  0.031502 -0.096098  0.023415   \n",
       "4 -0.053537 -0.162078 -0.085417  ...  0.093655 -0.019685 -0.010657 -0.028408   \n",
       "\n",
       "      p_316     p_317     p_318     p_319     p_320  hl_category  \n",
       "0  0.000950  0.046941  0.384855  0.065653 -0.079415       Medium  \n",
       "1 -0.079063 -0.155911  0.073967  0.077606 -0.040110       Medium  \n",
       "2 -0.101987 -0.002924  0.292161  0.105018 -0.149086       Medium  \n",
       "3 -0.145263 -0.061250  0.234779  0.020759 -0.252812       Medium  \n",
       "4 -0.211371 -0.111117  0.212650 -0.010299 -0.228238       Medium  \n",
       "\n",
       "[5 rows x 321 columns]"
      ]
     },
     "execution_count": 2,
     "metadata": {},
     "output_type": "execute_result"
    }
   ],
   "source": [
    "df_data = pd.read_csv(\"../processed_datasets/embedding_class_dataset.csv\")\n",
    "df_data.head(5)"
   ]
  },
  {
   "cell_type": "code",
   "execution_count": 3,
   "metadata": {},
   "outputs": [],
   "source": [
    "dataset = df_data.drop(columns=[\"hl_category\"]).values\n",
    "response = df_data[\"hl_category\"].values"
   ]
  },
  {
   "cell_type": "code",
   "execution_count": 4,
   "metadata": {},
   "outputs": [],
   "source": [
    "X_train, X_test, y_train, y_test = applySplit(dataset, response, random_state=42, test_size=0.1)"
   ]
  },
  {
   "cell_type": "markdown",
   "metadata": {},
   "source": [
    "### Instance model\n",
    "\n",
    "- Instance the ClassificationModels class and call one of the method to instance a classification model"
   ]
  },
  {
   "cell_type": "code",
   "execution_count": 5,
   "metadata": {},
   "outputs": [],
   "source": [
    "class_model = ClassificationModels(\n",
    "    dataset, \n",
    "    response, \n",
    "    test_size=0.2, \n",
    "    random_state=42\n",
    ")\n",
    "\n",
    "class_model.instanceRandomForest()"
   ]
  },
  {
   "cell_type": "markdown",
   "metadata": {},
   "source": [
    "### Training process\n",
    "\n",
    "- Prepare dataset for input process (training and validation datasets division)\n",
    "- Train the model\n",
    "- Eval the model using the classification metrics\n",
    "\n",
    "The performances of the models will be save in the attribute performances of the ClassificationModels object"
   ]
  },
  {
   "cell_type": "code",
   "execution_count": 6,
   "metadata": {},
   "outputs": [
    {
     "data": {
      "text/plain": [
       "{'Accuracy': 0.6846846846846847,\n",
       " 'Precision': 0.6379549074140104,\n",
       " 'Recall': 0.6846846846846847,\n",
       " 'F1-score': 0.6441840223423488,\n",
       " 'MCC': 0.18964179616875715,\n",
       " 'Confusion Matrix': [[0.24675324675324675,\n",
       "   0.7402597402597403,\n",
       "   0.012987012987012988],\n",
       "  [0.054838709677419356, 0.8903225806451613, 0.054838709677419356],\n",
       "  [0.03508771929824561, 0.8070175438596491, 0.15789473684210525]]}"
      ]
     },
     "execution_count": 6,
     "metadata": {},
     "output_type": "execute_result"
    }
   ],
   "source": [
    "class_model.processModel()\n",
    "class_model.performances"
   ]
  },
  {
   "cell_type": "markdown",
   "metadata": {},
   "source": [
    "### Export model"
   ]
  },
  {
   "cell_type": "code",
   "execution_count": 7,
   "metadata": {},
   "outputs": [],
   "source": [
    "class_model.exportModel(name_export=\"../demo_trained_models/rf_class_demo.joblib\")"
   ]
  },
  {
   "cell_type": "markdown",
   "metadata": {},
   "source": [
    "### Load and use the model"
   ]
  },
  {
   "cell_type": "code",
   "execution_count": 8,
   "metadata": {},
   "outputs": [
    {
     "data": {
      "text/plain": [
       "{'Accuracy': 0.6936936936936937,\n",
       " 'Precision': 0.6584084084084085,\n",
       " 'Recall': 0.6936936936936937,\n",
       " 'F1-score': 0.6597392847392847,\n",
       " 'MCC': 0.2314682445452855,\n",
       " 'Confusion Matrix': [[0.30303030303030304, 0.696969696969697, 0.0],\n",
       "  [0.07096774193548387, 0.8838709677419355, 0.04516129032258064],\n",
       "  [0.029411764705882353, 0.7647058823529411, 0.20588235294117646]]}"
      ]
     },
     "execution_count": 8,
     "metadata": {},
     "output_type": "execute_result"
    }
   ],
   "source": [
    "class_model.loadModel(name_model=\"../demo_trained_models/rf_class_demo.joblib\")\n",
    "predictions_model = class_model.makePredictionsWithModel(X_test)\n",
    "performances_test = class_model.evalModel(y_true=y_test, y_pred=predictions_model)\n",
    "performances_test"
   ]
  }
 ],
 "metadata": {
  "kernelspec": {
   "display_name": "embedding_protein",
   "language": "python",
   "name": "python3"
  },
  "language_info": {
   "codemirror_mode": {
    "name": "ipython",
    "version": 3
   },
   "file_extension": ".py",
   "mimetype": "text/x-python",
   "name": "python",
   "nbconvert_exporter": "python",
   "pygments_lexer": "ipython3",
   "version": "3.12.8"
  }
 },
 "nbformat": 4,
 "nbformat_minor": 2
}
