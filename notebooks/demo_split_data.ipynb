{
 "cells": [
  {
   "cell_type": "code",
   "execution_count": 1,
   "metadata": {},
   "outputs": [],
   "source": [
    "import pandas as pd\n",
    "import seaborn as sns\n",
    "from sklearn.model_selection import train_test_split"
   ]
  },
  {
   "cell_type": "code",
   "execution_count": 2,
   "metadata": {},
   "outputs": [
    {
     "data": {
      "text/html": [
       "<div>\n",
       "<style scoped>\n",
       "    .dataframe tbody tr th:only-of-type {\n",
       "        vertical-align: middle;\n",
       "    }\n",
       "\n",
       "    .dataframe tbody tr th {\n",
       "        vertical-align: top;\n",
       "    }\n",
       "\n",
       "    .dataframe thead th {\n",
       "        text-align: right;\n",
       "    }\n",
       "</style>\n",
       "<table border=\"1\" class=\"dataframe\">\n",
       "  <thead>\n",
       "    <tr style=\"text-align: right;\">\n",
       "      <th></th>\n",
       "      <th>sequence</th>\n",
       "      <th>response</th>\n",
       "      <th>length</th>\n",
       "      <th>is_in_selected</th>\n",
       "    </tr>\n",
       "  </thead>\n",
       "  <tbody>\n",
       "    <tr>\n",
       "      <th>0</th>\n",
       "      <td>MLYSLVKKYLFSLDAEIAHEKVCQILRTLSSSPFLCRLIHSQWGYK...</td>\n",
       "      <td>97.0</td>\n",
       "      <td>351</td>\n",
       "      <td>1</td>\n",
       "    </tr>\n",
       "    <tr>\n",
       "      <th>1</th>\n",
       "      <td>MTILNHTLGFPRVGLRRELKKAQESYWAGNSTREELLAVGRELRAR...</td>\n",
       "      <td>100.0</td>\n",
       "      <td>753</td>\n",
       "      <td>1</td>\n",
       "    </tr>\n",
       "    <tr>\n",
       "      <th>2</th>\n",
       "      <td>MSKFSFTIHSNYKKARSGVITTAHGKIRTPTFMPVGTRGTVKAMLT...</td>\n",
       "      <td>57.0</td>\n",
       "      <td>361</td>\n",
       "      <td>1</td>\n",
       "    </tr>\n",
       "    <tr>\n",
       "      <th>3</th>\n",
       "      <td>MKRAVVVFSGGQDSTTCLIQALHQYDEVHCVTFDYGQRHRAEIDVA...</td>\n",
       "      <td>99.0</td>\n",
       "      <td>231</td>\n",
       "      <td>1</td>\n",
       "    </tr>\n",
       "    <tr>\n",
       "      <th>4</th>\n",
       "      <td>MSEIVTYEDALKDFEPIIGLEVHVELSTQTKLFSSAPNIAGPLASC...</td>\n",
       "      <td>86.0</td>\n",
       "      <td>504</td>\n",
       "      <td>1</td>\n",
       "    </tr>\n",
       "  </tbody>\n",
       "</table>\n",
       "</div>"
      ],
      "text/plain": [
       "                                            sequence  response  length  \\\n",
       "0  MLYSLVKKYLFSLDAEIAHEKVCQILRTLSSSPFLCRLIHSQWGYK...      97.0     351   \n",
       "1  MTILNHTLGFPRVGLRRELKKAQESYWAGNSTREELLAVGRELRAR...     100.0     753   \n",
       "2  MSKFSFTIHSNYKKARSGVITTAHGKIRTPTFMPVGTRGTVKAMLT...      57.0     361   \n",
       "3  MKRAVVVFSGGQDSTTCLIQALHQYDEVHCVTFDYGQRHRAEIDVA...      99.0     231   \n",
       "4  MSEIVTYEDALKDFEPIIGLEVHVELSTQTKLFSSAPNIAGPLASC...      86.0     504   \n",
       "\n",
       "   is_in_selected  \n",
       "0               1  \n",
       "1               1  \n",
       "2               1  \n",
       "3               1  \n",
       "4               1  "
      ]
     },
     "execution_count": 2,
     "metadata": {},
     "output_type": "execute_result"
    }
   ],
   "source": [
    "df_data = pd.read_csv(\"../raw_data/protein_solubility/processed_data_to_train.csv\")\n",
    "df_data.head(5)"
   ]
  },
  {
   "cell_type": "code",
   "execution_count": 3,
   "metadata": {},
   "outputs": [
    {
     "data": {
      "text/html": [
       "<div>\n",
       "<style scoped>\n",
       "    .dataframe tbody tr th:only-of-type {\n",
       "        vertical-align: middle;\n",
       "    }\n",
       "\n",
       "    .dataframe tbody tr th {\n",
       "        vertical-align: top;\n",
       "    }\n",
       "\n",
       "    .dataframe thead th {\n",
       "        text-align: right;\n",
       "    }\n",
       "</style>\n",
       "<table border=\"1\" class=\"dataframe\">\n",
       "  <thead>\n",
       "    <tr style=\"text-align: right;\">\n",
       "      <th></th>\n",
       "      <th>sequence</th>\n",
       "      <th>response</th>\n",
       "    </tr>\n",
       "  </thead>\n",
       "  <tbody>\n",
       "    <tr>\n",
       "      <th>0</th>\n",
       "      <td>MLYSLVKKYLFSLDAEIAHEKVCQILRTLSSSPFLCRLIHSQWGYK...</td>\n",
       "      <td>97.0</td>\n",
       "    </tr>\n",
       "    <tr>\n",
       "      <th>1</th>\n",
       "      <td>MTILNHTLGFPRVGLRRELKKAQESYWAGNSTREELLAVGRELRAR...</td>\n",
       "      <td>100.0</td>\n",
       "    </tr>\n",
       "    <tr>\n",
       "      <th>2</th>\n",
       "      <td>MSKFSFTIHSNYKKARSGVITTAHGKIRTPTFMPVGTRGTVKAMLT...</td>\n",
       "      <td>57.0</td>\n",
       "    </tr>\n",
       "    <tr>\n",
       "      <th>3</th>\n",
       "      <td>MKRAVVVFSGGQDSTTCLIQALHQYDEVHCVTFDYGQRHRAEIDVA...</td>\n",
       "      <td>99.0</td>\n",
       "    </tr>\n",
       "    <tr>\n",
       "      <th>4</th>\n",
       "      <td>MSEIVTYEDALKDFEPIIGLEVHVELSTQTKLFSSAPNIAGPLASC...</td>\n",
       "      <td>86.0</td>\n",
       "    </tr>\n",
       "  </tbody>\n",
       "</table>\n",
       "</div>"
      ],
      "text/plain": [
       "                                            sequence  response\n",
       "0  MLYSLVKKYLFSLDAEIAHEKVCQILRTLSSSPFLCRLIHSQWGYK...      97.0\n",
       "1  MTILNHTLGFPRVGLRRELKKAQESYWAGNSTREELLAVGRELRAR...     100.0\n",
       "2  MSKFSFTIHSNYKKARSGVITTAHGKIRTPTFMPVGTRGTVKAMLT...      57.0\n",
       "3  MKRAVVVFSGGQDSTTCLIQALHQYDEVHCVTFDYGQRHRAEIDVA...      99.0\n",
       "4  MSEIVTYEDALKDFEPIIGLEVHVELSTQTKLFSSAPNIAGPLASC...      86.0"
      ]
     },
     "execution_count": 3,
     "metadata": {},
     "output_type": "execute_result"
    }
   ],
   "source": [
    "df_data = df_data[[\"sequence\", \"response\"]]\n",
    "df_data.head()"
   ]
  },
  {
   "cell_type": "code",
   "execution_count": 4,
   "metadata": {},
   "outputs": [
    {
     "data": {
      "text/plain": [
       "<Axes: xlabel='response', ylabel='Count'>"
      ]
     },
     "execution_count": 4,
     "metadata": {},
     "output_type": "execute_result"
    },
    {
     "data": {
      "image/png": "[encoded data removed]",
      "text/plain": [
       "<Figure size 640x480 with 1 Axes>"
      ]
     },
     "metadata": {},
     "output_type": "display_data"
    }
   ],
   "source": [
    "sns.histplot(data=df_data, x=\"response\", fill=False)"
   ]
  },
  {
   "cell_type": "code",
   "execution_count": 5,
   "metadata": {},
   "outputs": [],
   "source": [
    "train_data, test_data = train_test_split(df_data, test_size=0.1, random_state=42)\n",
    "train_data, val_data = train_test_split(train_data, test_size=0.2, random_state=42)"
   ]
  },
  {
   "cell_type": "code",
   "execution_count": 6,
   "metadata": {},
   "outputs": [],
   "source": [
    "train_data[\"source\"] = \"Train\"\n",
    "test_data[\"source\"] = \"Test\"\n",
    "val_data[\"source\"] = \"Validation\"\n",
    "\n",
    "full_data = pd.concat([train_data, test_data, val_data], axis=0)"
   ]
  },
  {
   "cell_type": "code",
   "execution_count": 7,
   "metadata": {},
   "outputs": [
    {
     "data": {
      "text/plain": [
       "<Axes: xlabel='response', ylabel='Count'>"
      ]
     },
     "execution_count": 7,
     "metadata": {},
     "output_type": "execute_result"
    },
    {
     "data": {
      "image/png": "[encoded data removed]",
      "text/plain": [
       "<Figure size 640x480 with 1 Axes>"
      ]
     },
     "metadata": {},
     "output_type": "display_data"
    }
   ],
   "source": [
    "sns.histplot(data=full_data, x=\"response\", hue=\"source\", fill=False)"
   ]
  },
  {
   "cell_type": "code",
   "execution_count": 8,
   "metadata": {},
   "outputs": [],
   "source": [
    "train_data[[\"sequence\", \"response\"]].to_csv(\"../raw_data/protein_solubility/train_data.csv\", index=False)\n",
    "val_data[[\"sequence\", \"response\"]].to_csv(\"../raw_data/protein_solubility/val_data.csv\", index=False)\n",
    "test_data[[\"sequence\", \"response\"]].to_csv(\"../raw_data/protein_solubility/test_data.csv\", index=False)\n"
   ]
  }
 ],
 "metadata": {
  "kernelspec": {
   "display_name": "protein_engineering",
   "language": "python",
   "name": "python3"
  },
  "language_info": {
   "codemirror_mode": {
    "name": "ipython",
    "version": 3
   },
   "file_extension": ".py",
   "mimetype": "text/x-python",
   "name": "python",
   "nbconvert_exporter": "python",
   "pygments_lexer": "ipython3",
   "version": "3.12.8"
  }
 },
 "nbformat": 4,
 "nbformat_minor": 2
}
