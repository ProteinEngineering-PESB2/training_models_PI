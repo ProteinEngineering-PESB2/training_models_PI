{
 "cells": [
  {
   "cell_type": "markdown",
   "metadata": {},
   "source": [
    "### Demo how to use the training module for regression task\n",
    "\n",
    "This notebook works with the processed dataset for regression task and shows how to:\n",
    "\n",
    "- Instance models\n",
    "- Training models with different strategies\n",
    "- Evaluate the trained models\n",
    "- Export models\n",
    "- Load and use models"
   ]
  },
  {
   "cell_type": "markdown",
   "metadata": {},
   "source": [
    "### Loading modules"
   ]
  },
  {
   "cell_type": "code",
   "execution_count": 1,
   "metadata": {},
   "outputs": [],
   "source": [
    "import pandas as pd\n",
    "import sys\n",
    "sys.path.insert(0, \"../src/\")\n",
    "\n",
    "from predictive_models.RegressionModels import RegressionModels\n",
    "from utils.utilsLib import *"
   ]
  },
  {
   "cell_type": "markdown",
   "metadata": {},
   "source": [
    "### Preparing dataset\n",
    "\n",
    "- Read the processed dataset\n",
    "- Separate dataset values of response column\n",
    "- Split dataset into train and independent test"
   ]
  },
  {
   "cell_type": "code",
   "execution_count": 2,
   "metadata": {},
   "outputs": [
    {
     "data": {
      "text/html": [
       "<div>\n",
       "<style scoped>\n",
       "    .dataframe tbody tr th:only-of-type {\n",
       "        vertical-align: middle;\n",
       "    }\n",
       "\n",
       "    .dataframe tbody tr th {\n",
       "        vertical-align: top;\n",
       "    }\n",
       "\n",
       "    .dataframe thead th {\n",
       "        text-align: right;\n",
       "    }\n",
       "</style>\n",
       "<table border=\"1\" class=\"dataframe\">\n",
       "  <thead>\n",
       "    <tr style=\"text-align: right;\">\n",
       "      <th></th>\n",
       "      <th>p_1</th>\n",
       "      <th>p_2</th>\n",
       "      <th>p_3</th>\n",
       "      <th>p_4</th>\n",
       "      <th>p_5</th>\n",
       "      <th>p_6</th>\n",
       "      <th>p_7</th>\n",
       "      <th>p_8</th>\n",
       "      <th>p_9</th>\n",
       "      <th>p_10</th>\n",
       "      <th>...</th>\n",
       "      <th>p_312</th>\n",
       "      <th>p_313</th>\n",
       "      <th>p_314</th>\n",
       "      <th>p_315</th>\n",
       "      <th>p_316</th>\n",
       "      <th>p_317</th>\n",
       "      <th>p_318</th>\n",
       "      <th>p_319</th>\n",
       "      <th>p_320</th>\n",
       "      <th>half_life_seconds</th>\n",
       "    </tr>\n",
       "  </thead>\n",
       "  <tbody>\n",
       "    <tr>\n",
       "      <th>0</th>\n",
       "      <td>0.026740</td>\n",
       "      <td>-0.171403</td>\n",
       "      <td>0.178561</td>\n",
       "      <td>0.180199</td>\n",
       "      <td>0.012636</td>\n",
       "      <td>-0.108113</td>\n",
       "      <td>-0.219023</td>\n",
       "      <td>-0.073262</td>\n",
       "      <td>-0.268416</td>\n",
       "      <td>-0.140269</td>\n",
       "      <td>...</td>\n",
       "      <td>-0.006349</td>\n",
       "      <td>0.071385</td>\n",
       "      <td>0.055954</td>\n",
       "      <td>-0.012171</td>\n",
       "      <td>0.190824</td>\n",
       "      <td>-0.017415</td>\n",
       "      <td>-0.107225</td>\n",
       "      <td>0.284304</td>\n",
       "      <td>0.023288</td>\n",
       "      <td>4320.0</td>\n",
       "    </tr>\n",
       "    <tr>\n",
       "      <th>1</th>\n",
       "      <td>0.091733</td>\n",
       "      <td>-0.187599</td>\n",
       "      <td>0.212225</td>\n",
       "      <td>0.060982</td>\n",
       "      <td>-0.108470</td>\n",
       "      <td>-0.218310</td>\n",
       "      <td>-0.286023</td>\n",
       "      <td>-0.124183</td>\n",
       "      <td>-0.247224</td>\n",
       "      <td>-0.191654</td>\n",
       "      <td>...</td>\n",
       "      <td>-0.032426</td>\n",
       "      <td>0.258178</td>\n",
       "      <td>0.081489</td>\n",
       "      <td>-0.068229</td>\n",
       "      <td>0.138499</td>\n",
       "      <td>-0.003603</td>\n",
       "      <td>0.004191</td>\n",
       "      <td>0.213267</td>\n",
       "      <td>0.018047</td>\n",
       "      <td>4320.0</td>\n",
       "    </tr>\n",
       "    <tr>\n",
       "      <th>2</th>\n",
       "      <td>0.082563</td>\n",
       "      <td>-0.210952</td>\n",
       "      <td>0.239499</td>\n",
       "      <td>0.079224</td>\n",
       "      <td>-0.103408</td>\n",
       "      <td>-0.261932</td>\n",
       "      <td>-0.266437</td>\n",
       "      <td>-0.122079</td>\n",
       "      <td>-0.243431</td>\n",
       "      <td>-0.223874</td>\n",
       "      <td>...</td>\n",
       "      <td>-0.066775</td>\n",
       "      <td>0.250513</td>\n",
       "      <td>0.117581</td>\n",
       "      <td>-0.046149</td>\n",
       "      <td>0.167968</td>\n",
       "      <td>-0.012323</td>\n",
       "      <td>-0.017102</td>\n",
       "      <td>0.224041</td>\n",
       "      <td>0.033795</td>\n",
       "      <td>4320.0</td>\n",
       "    </tr>\n",
       "    <tr>\n",
       "      <th>3</th>\n",
       "      <td>0.048140</td>\n",
       "      <td>-0.254203</td>\n",
       "      <td>0.179131</td>\n",
       "      <td>0.084825</td>\n",
       "      <td>-0.065147</td>\n",
       "      <td>-0.232894</td>\n",
       "      <td>-0.220538</td>\n",
       "      <td>-0.104856</td>\n",
       "      <td>-0.261101</td>\n",
       "      <td>-0.197619</td>\n",
       "      <td>...</td>\n",
       "      <td>-0.114089</td>\n",
       "      <td>0.284401</td>\n",
       "      <td>0.191484</td>\n",
       "      <td>-0.057476</td>\n",
       "      <td>0.218636</td>\n",
       "      <td>0.012756</td>\n",
       "      <td>-0.013462</td>\n",
       "      <td>0.272075</td>\n",
       "      <td>0.072061</td>\n",
       "      <td>4320.0</td>\n",
       "    </tr>\n",
       "    <tr>\n",
       "      <th>4</th>\n",
       "      <td>0.006447</td>\n",
       "      <td>-0.280032</td>\n",
       "      <td>0.132136</td>\n",
       "      <td>0.142575</td>\n",
       "      <td>-0.025799</td>\n",
       "      <td>-0.243614</td>\n",
       "      <td>-0.186888</td>\n",
       "      <td>-0.073403</td>\n",
       "      <td>-0.182603</td>\n",
       "      <td>-0.222269</td>\n",
       "      <td>...</td>\n",
       "      <td>-0.153647</td>\n",
       "      <td>0.234304</td>\n",
       "      <td>0.180723</td>\n",
       "      <td>0.008520</td>\n",
       "      <td>0.202126</td>\n",
       "      <td>-0.052754</td>\n",
       "      <td>-0.026384</td>\n",
       "      <td>0.275791</td>\n",
       "      <td>0.025841</td>\n",
       "      <td>4320.0</td>\n",
       "    </tr>\n",
       "  </tbody>\n",
       "</table>\n",
       "<p>5 rows × 321 columns</p>\n",
       "</div>"
      ],
      "text/plain": [
       "        p_1       p_2       p_3       p_4       p_5       p_6       p_7  \\\n",
       "0  0.026740 -0.171403  0.178561  0.180199  0.012636 -0.108113 -0.219023   \n",
       "1  0.091733 -0.187599  0.212225  0.060982 -0.108470 -0.218310 -0.286023   \n",
       "2  0.082563 -0.210952  0.239499  0.079224 -0.103408 -0.261932 -0.266437   \n",
       "3  0.048140 -0.254203  0.179131  0.084825 -0.065147 -0.232894 -0.220538   \n",
       "4  0.006447 -0.280032  0.132136  0.142575 -0.025799 -0.243614 -0.186888   \n",
       "\n",
       "        p_8       p_9      p_10  ...     p_312     p_313     p_314     p_315  \\\n",
       "0 -0.073262 -0.268416 -0.140269  ... -0.006349  0.071385  0.055954 -0.012171   \n",
       "1 -0.124183 -0.247224 -0.191654  ... -0.032426  0.258178  0.081489 -0.068229   \n",
       "2 -0.122079 -0.243431 -0.223874  ... -0.066775  0.250513  0.117581 -0.046149   \n",
       "3 -0.104856 -0.261101 -0.197619  ... -0.114089  0.284401  0.191484 -0.057476   \n",
       "4 -0.073403 -0.182603 -0.222269  ... -0.153647  0.234304  0.180723  0.008520   \n",
       "\n",
       "      p_316     p_317     p_318     p_319     p_320  half_life_seconds  \n",
       "0  0.190824 -0.017415 -0.107225  0.284304  0.023288             4320.0  \n",
       "1  0.138499 -0.003603  0.004191  0.213267  0.018047             4320.0  \n",
       "2  0.167968 -0.012323 -0.017102  0.224041  0.033795             4320.0  \n",
       "3  0.218636  0.012756 -0.013462  0.272075  0.072061             4320.0  \n",
       "4  0.202126 -0.052754 -0.026384  0.275791  0.025841             4320.0  \n",
       "\n",
       "[5 rows x 321 columns]"
      ]
     },
     "execution_count": 2,
     "metadata": {},
     "output_type": "execute_result"
    }
   ],
   "source": [
    "df_data = pd.read_csv(\"../processed_datasets/embedding_low_dataset.csv\")\n",
    "df_data.head(5)"
   ]
  },
  {
   "cell_type": "code",
   "execution_count": 3,
   "metadata": {},
   "outputs": [],
   "source": [
    "dataset = df_data.drop(columns=[\"half_life_seconds\"]).values\n",
    "response = df_data[\"half_life_seconds\"].values"
   ]
  },
  {
   "cell_type": "code",
   "execution_count": 4,
   "metadata": {},
   "outputs": [],
   "source": [
    "X_train, X_test, y_train, y_test = applySplit(dataset, response, random_state=42, test_size=0.1)"
   ]
  },
  {
   "cell_type": "markdown",
   "metadata": {},
   "source": [
    "### Instance model\n",
    "\n",
    "- Instance the RegressionModels class and call one of the method to instance a regression model"
   ]
  },
  {
   "cell_type": "code",
   "execution_count": 5,
   "metadata": {},
   "outputs": [],
   "source": [
    "regx_model = RegressionModels(\n",
    "    dataset, \n",
    "    response, \n",
    "    test_size=0.2, \n",
    "    random_state=42\n",
    ")\n",
    "\n",
    "regx_model.instanceRandomForest()"
   ]
  },
  {
   "cell_type": "markdown",
   "metadata": {},
   "source": [
    "### Training process\n",
    "\n",
    "- Prepare dataset for input process (training and validation datasets division)\n",
    "- Train the model\n",
    "- Eval the model using the regression metrics\n",
    "\n",
    "The performances of the models will be save in the attribute performances of the RegressionModels object"
   ]
  },
  {
   "cell_type": "code",
   "execution_count": 6,
   "metadata": {},
   "outputs": [
    {
     "data": {
      "text/plain": [
       "{'validation_metrics': {'R2': -0.32162735891849903,\n",
       "  'MAE': 2007.2894870538269,\n",
       "  'MSE': 5914334.091781149,\n",
       "  'Kendall-tau': -0.11012639093128974,\n",
       "  'Pearson': -0.07156311122638283,\n",
       "  'Spearman': -0.15713095360271642}}"
      ]
     },
     "execution_count": 6,
     "metadata": {},
     "output_type": "execute_result"
    }
   ],
   "source": [
    "regx_model.processModel()\n",
    "regx_model.performances"
   ]
  },
  {
   "cell_type": "markdown",
   "metadata": {},
   "source": [
    "### Training process with k-fold\n",
    "\n",
    "- Training with K-fold or stratified strategies implies split the training dataset in k segments. In this case, two metrics are obtained, including the training metrics and the metrics of validation\n",
    "- If you train with k-fold you don't need train and fit previous the model. The process automatically train and fit the model once the k-fold is finised"
   ]
  },
  {
   "cell_type": "code",
   "execution_count": 7,
   "metadata": {},
   "outputs": [
    {
     "data": {
      "text/plain": [
       "{'training_metrics': {'MAE': 1905.6051850860538,\n",
       "  'MSE': 5414830.135497616,\n",
       "  'R2': -0.22210889986511076,\n",
       "  'RMSE': 2326.69421234808},\n",
       " 'validation_metrics': {'R2': -0.2872705453770572,\n",
       "  'MAE': 1988.3278962128018,\n",
       "  'MSE': 5760586.008221955,\n",
       "  'Kendall-tau': -0.09686509778249569,\n",
       "  'Pearson': -0.034034929070846306,\n",
       "  'Spearman': -0.13460545842013008}}"
      ]
     },
     "execution_count": 7,
     "metadata": {},
     "output_type": "execute_result"
    }
   ],
   "source": [
    "regx_model.processModel(kfold=True, k=5)\n",
    "regx_model.performances"
   ]
  },
  {
   "cell_type": "markdown",
   "metadata": {},
   "source": [
    "### Export model"
   ]
  },
  {
   "cell_type": "code",
   "execution_count": 8,
   "metadata": {},
   "outputs": [],
   "source": [
    "regx_model.exportModel(name_export=\"../demo_trained_models/rf_regx_demo.joblib\")"
   ]
  },
  {
   "cell_type": "markdown",
   "metadata": {},
   "source": [
    "### Load and use the model"
   ]
  },
  {
   "cell_type": "code",
   "execution_count": 9,
   "metadata": {},
   "outputs": [
    {
     "data": {
      "text/plain": [
       "{'R2': -0.292664430343867,\n",
       " 'MAE': 1913.6271715810399,\n",
       " 'MSE': 5530559.428491416,\n",
       " 'Kendall-tau': -0.09740694031689828,\n",
       " 'Pearson': -0.03984186496410636,\n",
       " 'Spearman': -0.1352115554636694}"
      ]
     },
     "execution_count": 9,
     "metadata": {},
     "output_type": "execute_result"
    }
   ],
   "source": [
    "regx_model.loadModel(name_model=\"../demo_trained_models/rf_regx_demo.joblib\")\n",
    "predictions_model = regx_model.makePredictionsWithModel(X_test)\n",
    "performances_test = regx_model.evalModel(\n",
    "    type_model=\"regx\",\n",
    "    y_true=y_test, \n",
    "    y_pred=predictions_model)\n",
    "performances_test"
   ]
  }
 ],
 "metadata": {
  "kernelspec": {
   "display_name": "embedding_protein",
   "language": "python",
   "name": "python3"
  },
  "language_info": {
   "codemirror_mode": {
    "name": "ipython",
    "version": 3
   },
   "file_extension": ".py",
   "mimetype": "text/x-python",
   "name": "python",
   "nbconvert_exporter": "python",
   "pygments_lexer": "ipython3",
   "version": "3.12.6"
  }
 },
 "nbformat": 4,
 "nbformat_minor": 2
}
